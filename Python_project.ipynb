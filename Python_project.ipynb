{
 "cells": [
  {
   "cell_type": "code",
   "execution_count": null,
   "id": "43a22e80-ee7c-404f-8494-b4fee70510dd",
   "metadata": {},
   "outputs": [],
   "source": [
    "\n",
    "!pip install yfinance\n",
    "#!pip install pandas\n",
    "#!pip install requests\n",
    "!pip install bs4\n",
    "#!pip install plotly"
   ]
  },
  {
   "cell_type": "code",
   "execution_count": null,
   "id": "2fa17aaf-893c-4c25-98dc-f93c8d5087c2",
   "metadata": {},
   "outputs": [],
   "source": [
    "import yfinance as yf\n",
    "import pandas as pd\n",
    "import requests\n",
    "from bs4 import BeautifulSoup\n",
    "import plotly.graph_objects as go\n",
    "from plotly.subplots import make_subplots"
   ]
  },
  {
   "cell_type": "code",
   "execution_count": null,
   "id": "2252996b-1c69-4c78-ba88-d01c5d325f70",
   "metadata": {},
   "outputs": [],
   "source": [
    "def make_graph(stock_data, revenue_data, stock):\n",
    "    fig = make_subplots(rows=2, cols=1, shared_xaxes=True, subplot_titles=(\"Historical Share Price\", \"Historical Revenue\"), vertical_spacing = .3)\n",
    "    fig.add_trace(go.Scatter(x=pd.to_datetime(stock_data.Date, infer_datetime_format=True), y=stock_data.Close.astype(\"float\"), name=\"Share Price\"), row=1, col=1)\n",
    "    fig.add_trace(go.Scatter(x=pd.to_datetime(revenue_data.Date, infer_datetime_format=True), y=revenue_data.Revenue.astype(\"float\"), name=\"Revenue\"), row=2, col=1)\n",
    "    fig.update_xaxes(title_text=\"Date\", row=1, col=1)\n",
    "    fig.update_xaxes(title_text=\"Date\", row=2, col=1)\n",
    "    fig.update_yaxes(title_text=\"Price ($US)\", row=1, col=1)\n",
    "    fig.update_yaxes(title_text=\"Revenue ($US Millions)\", row=2, col=1)\n",
    "    fig.update_layout(showlegend=False,\n",
    "    height=900,\n",
    "    title=stock,\n",
    "    xaxis_rangeslider_visible=True)\n",
    "    fig.show()"
   ]
  },
  {
   "cell_type": "code",
   "execution_count": null,
   "id": "a6db3ed5-178b-444b-bd46-aafe10d0e48d",
   "metadata": {},
   "outputs": [],
   "source": [
    "##Question 1 ##"
   ]
  },
  {
   "cell_type": "code",
   "execution_count": null,
   "id": "71ccfc44-c421-4fe8-9c47-b2ff91eb59d7",
   "metadata": {},
   "outputs": [],
   "source": [
    "import yfinance as yf\n",
    "tesla = yf.Ticker(\"TSLA\")\n",
    "tesla_data = tesla.history(period=\"max\")\n",
    "tesla_data.head()"
   ]
  },
  {
   "cell_type": "code",
   "execution_count": null,
   "id": "016aada3-edfb-411d-bdf6-fe22c2b144d1",
   "metadata": {},
   "outputs": [],
   "source": [
    "##QUestion 2"
   ]
  },
  {
   "cell_type": "code",
   "execution_count": null,
   "id": "4c72c70b-6667-4724-86a9-9025d1c473c2",
   "metadata": {},
   "outputs": [],
   "source": [
    "\n",
    "url = 'https://www.macrotrends.net/stocks/charts/TSLA/tesla/revenue'\n",
    "html_data = requests.get(url).text"
   ]
  },
  {
   "cell_type": "code",
   "execution_count": null,
   "id": "dfc0d9a8-bd52-4900-809f-e681a03810b0",
   "metadata": {},
   "outputs": [],
   "source": [
    "soup = BeautifulSoup(html_data,\"html5lib\")"
   ]
  },
  {
   "cell_type": "code",
   "execution_count": null,
   "id": "6003b4ee-e6b2-4d20-b31e-a65278c5c339",
   "metadata": {},
   "outputs": [],
   "source": [
    "tesla_revenue = pd.DataFrame(columns=['Date', 'Revenue'])\n",
    "\n",
    "for table in soup.find_all('table'):\n",
    "\n",
    "    if ('Tesla Quarterly Revenue' in table.find('th').text):\n",
    "        rows = table.find_all('tr')\n",
    "        \n",
    "        for row in rows:\n",
    "            col = row.find_all('td')\n",
    "            \n",
    "            if col != []:\n",
    "                date = col[0].text\n",
    "                revenue = col[1].text.replace('$','').replace(',','')\n",
    "\n",
    "                tesla_revenue = tesla_revenue.append({\"Date\":date, \"Revenue\":revenue}, ignore_index=True)"
   ]
  },
  {
   "cell_type": "code",
   "execution_count": null,
   "id": "db8124a7-c99c-43a1-b1d4-47aa42fd1a56",
   "metadata": {},
   "outputs": [],
   "source": [
    "\n",
    "tesla_revenue = tesla_revenue[tesla_revenue['Revenue'].astype(bool)]"
   ]
  },
  {
   "cell_type": "code",
   "execution_count": null,
   "id": "b7b06120-1fd7-45da-ac46-db692a2ca572",
   "metadata": {},
   "outputs": [],
   "source": [
    "\n",
    "tesla_revenue.tail()"
   ]
  },
  {
   "cell_type": "code",
   "execution_count": null,
   "id": "0a19b9dc-1b69-48fd-a422-f1dc0ace4ea2",
   "metadata": {},
   "outputs": [],
   "source": [
    "##Question 3"
   ]
  },
  {
   "cell_type": "code",
   "execution_count": null,
   "id": "11ef2053-004c-4bfc-a5fa-e3aa8a33e7e3",
   "metadata": {},
   "outputs": [],
   "source": [
    "\n",
    "gme = yf.Ticker('GME')\n",
    "gme_data = gme.history(period='max')\n",
    "gme_data.reset_index(inplace=True)\n",
    "gme_data.head()"
   ]
  },
  {
   "cell_type": "code",
   "execution_count": null,
   "id": "dd008ec8-cc24-4d99-aabe-a2ed0a8b6799",
   "metadata": {},
   "outputs": [],
   "source": [
    "##Question 4"
   ]
  },
  {
   "cell_type": "code",
   "execution_count": null,
   "id": "6647b789-c07c-4f7f-a824-1d4326572887",
   "metadata": {},
   "outputs": [],
   "source": [
    "\n",
    "url = 'https://www.macrotrends.net/stocks/charts/GME/gamestop/revenue'\n",
    "html_data = requests.get(url).text\n",
    "\n",
    "soup = BeautifulSoup(html_data,\"html5lib\")\n",
    "gme_revenue = pd.DataFrame(columns=['Date', 'Revenue'])\n",
    "\n",
    "for table in soup.find_all('table'):\n",
    "\n",
    "    if ('GameStop Quarterly Revenue' in table.find('th').text):\n",
    "        rows = table.find_all('tr')\n",
    "        \n",
    "        for row in rows:\n",
    "            col = row.find_all('td')\n",
    "            \n",
    "            if col != []:\n",
    "                date = col[0].text\n",
    "                revenue = col[1].text.replace(',','').replace('$','')\n",
    "\n",
    "                gme_revenue = gme_revenue.append({\"Date\":date, \"Revenue\":revenue}, ignore_index=True)\n",
    "                \n",
    "gme_revenue.tail()"
   ]
  },
  {
   "cell_type": "code",
   "execution_count": null,
   "id": "e182b34b-4d2b-4f14-82f5-32d81f1f1e38",
   "metadata": {},
   "outputs": [],
   "source": [
    "##Question 5"
   ]
  },
  {
   "cell_type": "code",
   "execution_count": null,
   "id": "cf4dbf70-4a3a-4194-a074-326df0c9a455",
   "metadata": {},
   "outputs": [],
   "source": [
    "make_graph(tesla_data[['Date','Close']], tesla_revenue, 'Tesla')"
   ]
  },
  {
   "cell_type": "code",
   "execution_count": null,
   "id": "a82772cc-3845-4923-94a5-116907421af4",
   "metadata": {},
   "outputs": [],
   "source": [
    "##question 6\n",
    "make_graph(gme_data[['Date','Close']], gme_revenue, 'GameStop')"
   ]
  },
  {
   "cell_type": "code",
   "execution_count": null,
   "id": "4a22c2e7-2220-4830-8a49-8e97cea9d9cc",
   "metadata": {},
   "outputs": [],
   "source": []
  }
 ],
 "metadata": {
  "kernelspec": {
   "display_name": "Python 3 (ipykernel)",
   "language": "python",
   "name": "python3"
  },
  "language_info": {
   "codemirror_mode": {
    "name": "ipython",
    "version": 3
   },
   "file_extension": ".py",
   "mimetype": "text/x-python",
   "name": "python",
   "nbconvert_exporter": "python",
   "pygments_lexer": "ipython3",
   "version": "3.9.13"
  }
 },
 "nbformat": 4,
 "nbformat_minor": 5
}
